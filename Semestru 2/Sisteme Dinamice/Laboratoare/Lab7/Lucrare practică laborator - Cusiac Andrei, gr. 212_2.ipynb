{
 "cells": [
  {
   "cell_type": "markdown",
   "metadata": {},
   "source": [
    "Cusiac Andrei, Gr. 212/2"
   ]
  },
  {
   "cell_type": "markdown",
   "metadata": {},
   "source": [
    "# Ex 1"
   ]
  },
  {
   "cell_type": "code",
   "execution_count": 8,
   "metadata": {},
   "outputs": [
    {
     "data": {
      "text/html": [
       "<html><script type=\"math/tex; mode=display\">\\newcommand{\\Bold}[1]{\\mathbf{#1}}-\\frac{y\\left(x\\right)}{m} + \\frac{\\partial}{\\partial x}y\\left(x\\right) = m x</script></html>"
      ],
      "text/latex": [
       "\\begin{math}\n",
       "\\newcommand{\\Bold}[1]{\\mathbf{#1}}-\\frac{y\\left(x\\right)}{m} + \\frac{\\partial}{\\partial x}y\\left(x\\right) = m x\n",
       "\\end{math}"
      ],
      "text/plain": [
       "-y(x)/m + diff(y(x), x) == m*x"
      ]
     },
     "metadata": {},
     "output_type": "display_data"
    }
   ],
   "source": [
    "# a)\n",
    "\n",
    "reset()\n",
    "\n",
    "m = var('m')\n",
    "x = var('x')\n",
    "y = function('y')(x)\n",
    "\n",
    "eq = diff(y, x) - y/m == m*x\n",
    "show(eq)"
   ]
  },
  {
   "cell_type": "code",
   "execution_count": 18,
   "metadata": {},
   "outputs": [
    {
     "data": {
      "text/html": [
       "<html><script type=\"math/tex; mode=display\">\\newcommand{\\Bold}[1]{\\mathbf{#1}}-{\\left({\\left(m^{2} + m x\\right)} m e^{\\left(-\\frac{x}{m}\\right)} - C\\right)} e^{\\frac{x}{m}}</script></html>"
      ],
      "text/latex": [
       "\\begin{math}\n",
       "\\newcommand{\\Bold}[1]{\\mathbf{#1}}-{\\left({\\left(m^{2} + m x\\right)} m e^{\\left(-\\frac{x}{m}\\right)} - C\\right)} e^{\\frac{x}{m}}\n",
       "\\end{math}"
      ],
      "text/plain": [
       "-((m^2 + m*x)*m*e^(-x/m) - _C)*e^(x/m)"
      ]
     },
     "metadata": {},
     "output_type": "display_data"
    }
   ],
   "source": [
    "sol = desolve(eq, dvar=y, ivar=x)\n",
    "show(sol)"
   ]
  },
  {
   "cell_type": "code",
   "execution_count": null,
   "metadata": {},
   "outputs": [],
   "source": []
  },
  {
   "cell_type": "markdown",
   "metadata": {},
   "source": [
    "# Ex 2"
   ]
  },
  {
   "cell_type": "code",
   "execution_count": 24,
   "metadata": {},
   "outputs": [
    {
     "data": {
      "text/html": [
       "<html><script type=\"math/tex; mode=display\">\\newcommand{\\Bold}[1]{\\mathbf{#1}}x^{2} \\frac{\\partial^{2}}{(\\partial x)^{2}}y\\left(x\\right) + 3 \\, x \\frac{\\partial}{\\partial x}y\\left(x\\right) + y\\left(x\\right) = 0</script></html>"
      ],
      "text/latex": [
       "\\begin{math}\n",
       "\\newcommand{\\Bold}[1]{\\mathbf{#1}}x^{2} \\frac{\\partial^{2}}{(\\partial x)^{2}}y\\left(x\\right) + 3 \\, x \\frac{\\partial}{\\partial x}y\\left(x\\right) + y\\left(x\\right) = 0\n",
       "\\end{math}"
      ],
      "text/plain": [
       "x^2*diff(y(x), x, x) + 3*x*diff(y(x), x) + y(x) == 0"
      ]
     },
     "metadata": {},
     "output_type": "display_data"
    }
   ],
   "source": [
    "# a)\n",
    "\n",
    "reset()\n",
    "\n",
    "x = var('x')\n",
    "y = function('y')(x)\n",
    "\n",
    "eq = x^2 * diff(y,x,2) + 3*x*diff(y,x) + y == 0\n",
    "show(eq)"
   ]
  },
  {
   "cell_type": "code",
   "execution_count": 25,
   "metadata": {},
   "outputs": [
    {
     "data": {
      "text/html": [
       "<html><script type=\"math/tex; mode=display\">\\newcommand{\\Bold}[1]{\\mathbf{#1}}\\frac{K_{1} \\log\\left(x\\right)}{x} + \\frac{K_{2}}{x}</script></html>"
      ],
      "text/latex": [
       "\\begin{math}\n",
       "\\newcommand{\\Bold}[1]{\\mathbf{#1}}\\frac{K_{1} \\log\\left(x\\right)}{x} + \\frac{K_{2}}{x}\n",
       "\\end{math}"
      ],
      "text/plain": [
       "_K1*log(x)/x + _K2/x"
      ]
     },
     "metadata": {},
     "output_type": "display_data"
    }
   ],
   "source": [
    "sol = desolve(eq, dvar=y, ivar=x)\n",
    "show(sol)"
   ]
  },
  {
   "cell_type": "code",
   "execution_count": 27,
   "metadata": {},
   "outputs": [
    {
     "data": {
      "text/html": [
       "<html><script type=\"math/tex; mode=display\">\\newcommand{\\Bold}[1]{\\mathbf{#1}}\\left( x, K_{1}, K_{2} \\right) \\ {\\mapsto} \\ \\frac{K_{1} \\log\\left(x\\right)}{x} + \\frac{K_{2}}{x}</script></html>"
      ],
      "text/latex": [
       "\\begin{math}\n",
       "\\newcommand{\\Bold}[1]{\\mathbf{#1}}\\left( x, K_{1}, K_{2} \\right) \\ {\\mapsto} \\ \\frac{K_{1} \\log\\left(x\\right)}{x} + \\frac{K_{2}}{x}\n",
       "\\end{math}"
      ],
      "text/plain": [
       "(x, _K1, _K2) |--> _K1*log(x)/x + _K2/x"
      ]
     },
     "metadata": {},
     "output_type": "display_data"
    }
   ],
   "source": [
    "_K1, _K2 = var('_K1,K2')\n",
    "\n",
    "solv(x,_K1,_K2) = sol\n",
    "show(solv)"
   ]
  },
  {
   "cell_type": "code",
   "execution_count": 28,
   "metadata": {},
   "outputs": [
    {
     "data": {
      "text/html": [
       "<html><script type=\"math/tex; mode=display\">\\newcommand{\\Bold}[1]{\\mathbf{#1}}\\frac{2 \\, \\log\\left(x\\right)}{x} + \\frac{1}{x}</script></html>"
      ],
      "text/latex": [
       "\\begin{math}\n",
       "\\newcommand{\\Bold}[1]{\\mathbf{#1}}\\frac{2 \\, \\log\\left(x\\right)}{x} + \\frac{1}{x}\n",
       "\\end{math}"
      ],
      "text/plain": [
       "2*log(x)/x + 1/x"
      ]
     },
     "metadata": {},
     "output_type": "display_data"
    }
   ],
   "source": [
    "# b)\n",
    "\n",
    "eqd = desolve(eq, dvar=y, ivar=x, ics=[1, 1, 1])\n",
    "show (eqd)"
   ]
  },
  {
   "cell_type": "code",
   "execution_count": 29,
   "metadata": {},
   "outputs": [
    {
     "data": {
      "image/png": "[encoded data removed]",
      "text/plain": [
       "Graphics object consisting of 1 graphics primitive"
      ]
     },
     "execution_count": 29,
     "metadata": {},
     "output_type": "execute_result"
    }
   ],
   "source": [
    "plot(eqd, x, 1, 10)"
   ]
  },
  {
   "cell_type": "markdown",
   "metadata": {},
   "source": [
    "# Ex 3"
   ]
  },
  {
   "cell_type": "code",
   "execution_count": 33,
   "metadata": {},
   "outputs": [
    {
     "data": {
      "text/html": [
       "<html><script type=\"math/tex; mode=display\">\\newcommand{\\Bold}[1]{\\mathbf{#1}}-{\\left(s + 1\\right)} {\\left(s - 2\\right)} s</script></html>"
      ],
      "text/latex": [
       "\\begin{math}\n",
       "\\newcommand{\\Bold}[1]{\\mathbf{#1}}-{\\left(s + 1\\right)} {\\left(s - 2\\right)} s\n",
       "\\end{math}"
      ],
      "text/plain": [
       "-(s + 1)*(s - 2)*s"
      ]
     },
     "metadata": {},
     "output_type": "display_data"
    }
   ],
   "source": [
    "# a)\n",
    "\n",
    "reset()\n",
    "t = var('t')\n",
    "x = function('x')(t)\n",
    "\n",
    "s = var('s')\n",
    "f = function('f')(s)\n",
    "\n",
    "f(s) = s * (s + 1) * (2 - s)\n",
    "show(f(s))"
   ]
  },
  {
   "cell_type": "code",
   "execution_count": 34,
   "metadata": {},
   "outputs": [
    {
     "data": {
      "text/html": [
       "<html><script type=\"math/tex; mode=display\">\\newcommand{\\Bold}[1]{\\mathbf{#1}}\\left[s = \\left(-1\\right), s = 0, s = 2\\right]</script></html>"
      ],
      "text/latex": [
       "\\begin{math}\n",
       "\\newcommand{\\Bold}[1]{\\mathbf{#1}}\\left[s = \\left(-1\\right), s = 0, s = 2\\right]\n",
       "\\end{math}"
      ],
      "text/plain": [
       "[s == -1, s == 0, s == 2]"
      ]
     },
     "metadata": {},
     "output_type": "display_data"
    }
   ],
   "source": [
    "eq = solve(f(s)==0, s)\n",
    "show(eq)"
   ]
  },
  {
   "cell_type": "code",
   "execution_count": 43,
   "metadata": {},
   "outputs": [
    {
     "data": {
      "text/html": [
       "<html><script type=\"math/tex; mode=display\">\\newcommand{\\Bold}[1]{\\mathbf{#1}}\\verb|x1|\\phantom{\\verb!x!}\\verb|=| -1</script></html>"
      ],
      "text/latex": [
       "\\begin{math}\n",
       "\\newcommand{\\Bold}[1]{\\mathbf{#1}}\\verb|x1|\\phantom{\\verb!x!}\\verb|=| -1\n",
       "\\end{math}"
      ],
      "text/plain": [
       "'x1 = ' -1"
      ]
     },
     "metadata": {},
     "output_type": "display_data"
    },
    {
     "data": {
      "text/html": [
       "<html><script type=\"math/tex; mode=display\">\\newcommand{\\Bold}[1]{\\mathbf{#1}}\\verb|f'(x1)|\\phantom{\\verb!x!}\\verb|=| -3</script></html>"
      ],
      "text/latex": [
       "\\begin{math}\n",
       "\\newcommand{\\Bold}[1]{\\mathbf{#1}}\\verb|f'(x1)|\\phantom{\\verb!x!}\\verb|=| -3\n",
       "\\end{math}"
      ],
      "text/plain": [
       "\"f'(x1) = \" -3"
      ]
     },
     "metadata": {},
     "output_type": "display_data"
    },
    {
     "data": {
      "text/plain": [
       "'-3 < 0 ==> punctul x1 = -1 este local asimptotic stabil'"
      ]
     },
     "execution_count": 43,
     "metadata": {},
     "output_type": "execute_result"
    }
   ],
   "source": [
    "x1 = eq[0].rhs()\n",
    "show(\"x1 = \",x1)\n",
    "\n",
    "show(\"f'(x1) = \", diff(f,s)(x1))\n",
    "\n",
    "\"-3 < 0 ==> punctul x1 = -1 este local asimptotic stabil\""
   ]
  },
  {
   "cell_type": "code",
   "execution_count": 45,
   "metadata": {},
   "outputs": [
    {
     "data": {
      "text/html": [
       "<html><script type=\"math/tex; mode=display\">\\newcommand{\\Bold}[1]{\\mathbf{#1}}\\verb|x2|\\phantom{\\verb!x!}\\verb|=| 0</script></html>"
      ],
      "text/latex": [
       "\\begin{math}\n",
       "\\newcommand{\\Bold}[1]{\\mathbf{#1}}\\verb|x2|\\phantom{\\verb!x!}\\verb|=| 0\n",
       "\\end{math}"
      ],
      "text/plain": [
       "'x2 = ' 0"
      ]
     },
     "metadata": {},
     "output_type": "display_data"
    },
    {
     "data": {
      "text/html": [
       "<html><script type=\"math/tex; mode=display\">\\newcommand{\\Bold}[1]{\\mathbf{#1}}\\verb|f'(x2)|\\phantom{\\verb!x!}\\verb|=| 2</script></html>"
      ],
      "text/latex": [
       "\\begin{math}\n",
       "\\newcommand{\\Bold}[1]{\\mathbf{#1}}\\verb|f'(x2)|\\phantom{\\verb!x!}\\verb|=| 2\n",
       "\\end{math}"
      ],
      "text/plain": [
       "\"f'(x2) = \" 2"
      ]
     },
     "metadata": {},
     "output_type": "display_data"
    },
    {
     "data": {
      "text/plain": [
       "'2 > 0 ==> punctul x2 = 0 este instabil'"
      ]
     },
     "execution_count": 45,
     "metadata": {},
     "output_type": "execute_result"
    }
   ],
   "source": [
    "x2 = eq[1].rhs()\n",
    "show(\"x2 = \",x2)\n",
    "\n",
    "show(\"f'(x2) = \", diff(f,s)(x2))\n",
    "\n",
    "\"2 > 0 ==> punctul x2 = 0 este instabil\""
   ]
  },
  {
   "cell_type": "code",
   "execution_count": 47,
   "metadata": {},
   "outputs": [
    {
     "data": {
      "text/html": [
       "<html><script type=\"math/tex; mode=display\">\\newcommand{\\Bold}[1]{\\mathbf{#1}}\\verb|x3|\\phantom{\\verb!x!}\\verb|=| 2</script></html>"
      ],
      "text/latex": [
       "\\begin{math}\n",
       "\\newcommand{\\Bold}[1]{\\mathbf{#1}}\\verb|x3|\\phantom{\\verb!x!}\\verb|=| 2\n",
       "\\end{math}"
      ],
      "text/plain": [
       "'x3 = ' 2"
      ]
     },
     "metadata": {},
     "output_type": "display_data"
    },
    {
     "data": {
      "text/html": [
       "<html><script type=\"math/tex; mode=display\">\\newcommand{\\Bold}[1]{\\mathbf{#1}}\\verb|f'(x3)|\\phantom{\\verb!x!}\\verb|=| -6</script></html>"
      ],
      "text/latex": [
       "\\begin{math}\n",
       "\\newcommand{\\Bold}[1]{\\mathbf{#1}}\\verb|f'(x3)|\\phantom{\\verb!x!}\\verb|=| -6\n",
       "\\end{math}"
      ],
      "text/plain": [
       "\"f'(x3) = \" -6"
      ]
     },
     "metadata": {},
     "output_type": "display_data"
    },
    {
     "data": {
      "text/plain": [
       "'-6 < 0 ==> punctul x1 = -1 este local asimptotic stabil'"
      ]
     },
     "execution_count": 47,
     "metadata": {},
     "output_type": "execute_result"
    }
   ],
   "source": [
    "x3 = eq[2].rhs()\n",
    "show(\"x3 = \",x3)\n",
    "\n",
    "show(\"f'(x3) = \", diff(f,s)(x3))\n",
    "\n",
    "\"-6 < 0 ==> punctul x1 = -1 este local asimptotic stabil\""
   ]
  },
  {
   "cell_type": "code",
   "execution_count": 52,
   "metadata": {},
   "outputs": [
    {
     "data": {
      "image/png": "[encoded data removed]",
      "text/plain": [
       "Graphics object consisting of 9 graphics primitives"
      ]
     },
     "metadata": {},
     "output_type": "display_data"
    }
   ],
   "source": [
    "# b)\n",
    "\n",
    "deq = diff(x, t) == f(x)\n",
    "deq\n",
    "\n",
    "sf = plot_slope_field(f(s), (t, -7, 7), (s, -10, 10), headaxislength = 3, headlength = 4, color = \"black\")\n",
    "g1 = desolve_rk4(deq, x, [0, -2], step = 0.1, end_points = [-5,5], output = 'plot', color = 'blue')\n",
    "g2 = desolve_rk4(deq, x, [0, -1], step = 0.1, end_points = [-5,5], output = 'plot', color = 'red')\n",
    "g3 = desolve_rk4(deq, x, [0, -1/2], step = 0.1, end_points = [-5,5], output = 'plot', color = 'blue')\n",
    "g4 = desolve_rk4(deq, x, [0, 0], step = 0.1, end_points = [-5,5], output = 'plot', color = 'red')\n",
    "g5 = desolve_rk4(deq, x, [0, 1/2], step = 0.1, end_points = [-5,5], output = 'plot', color = 'blue')\n",
    "g6 = desolve_rk4(deq, x, [0, 1], step = 0.1, end_points = [-5,5], output = 'plot', color = 'blue')\n",
    "g7 = desolve_rk4(deq, x, [0, 3/2], step = 0.1, end_points = [-5,5], output = 'plot', color = 'blue')\n",
    "g8 = desolve_rk4(deq, x, [0, 2], step = 0.1, end_points = [-5,5], output = 'plot', color = 'red')\n",
    "show(sf+g1+g2+g3+g4+g5+g6+g7+g8, ymin=-5, ymax=5, xmin=0, xmax=2)"
   ]
  },
  {
   "cell_type": "markdown",
   "metadata": {},
   "source": [
    "# Ex 4\n"
   ]
  },
  {
   "cell_type": "code",
   "execution_count": 53,
   "metadata": {},
   "outputs": [
    {
     "data": {
      "text/html": [
       "<html><script type=\"math/tex; mode=display\">\\newcommand{\\Bold}[1]{\\mathbf{#1}}\\left[\\left[x = 2, y = 4\\right], \\left[x = i \\, \\sqrt{3} - 1, y = -2 i \\, \\sqrt{3} - 2\\right], \\left[x = -i \\, \\sqrt{3} - 1, y = 2 i \\, \\sqrt{3} - 2\\right], \\left[x = 0, y = 0\\right]\\right]</script></html>"
      ],
      "text/latex": [
       "\\begin{math}\n",
       "\\newcommand{\\Bold}[1]{\\mathbf{#1}}\\left[\\left[x = 2, y = 4\\right], \\left[x = i \\, \\sqrt{3} - 1, y = -2 i \\, \\sqrt{3} - 2\\right], \\left[x = -i \\, \\sqrt{3} - 1, y = 2 i \\, \\sqrt{3} - 2\\right], \\left[x = 0, y = 0\\right]\\right]\n",
       "\\end{math}"
      ],
      "text/plain": [
       "[[x == 2, y == 4], [x == I*sqrt(3) - 1, y == -2*I*sqrt(3) - 2], [x == -I*sqrt(3) - 1, y == 2*I*sqrt(3) - 2], [x == 0, y == 0]]"
      ]
     },
     "metadata": {},
     "output_type": "display_data"
    }
   ],
   "source": [
    "# a)\n",
    "\n",
    "reset()\n",
    "x, y, t = var('x,y,t')\n",
    "\n",
    "f1(x, y) = y^2 - 8*x\n",
    "f2(x, y) = x^2 - y\n",
    "\n",
    "P = solve([f1(x,y)==0, f2(x,y)==0], x, y)\n",
    "show(P)"
   ]
  },
  {
   "cell_type": "code",
   "execution_count": 55,
   "metadata": {},
   "outputs": [
    {
     "data": {
      "text/html": [
       "<html><script type=\"math/tex; mode=display\">\\newcommand{\\Bold}[1]{\\mathbf{#1}}\\left(\\begin{array}{rr}\n",
       "-8 & 2 \\, y \\\\\n",
       "2 \\, x & -1\n",
       "\\end{array}\\right)</script></html>"
      ],
      "text/latex": [
       "\\begin{math}\n",
       "\\newcommand{\\Bold}[1]{\\mathbf{#1}}\\left(\\begin{array}{rr}\n",
       "-8 & 2 \\, y \\\\\n",
       "2 \\, x & -1\n",
       "\\end{array}\\right)\n",
       "\\end{math}"
      ],
      "text/plain": [
       "[ -8 2*y]\n",
       "[2*x  -1]"
      ]
     },
     "metadata": {},
     "output_type": "display_data"
    }
   ],
   "source": [
    "# b)\n",
    "\n",
    "J = jacobian((f1(x,y), f2(x,y)), (x, y))\n",
    "show(J)"
   ]
  },
  {
   "cell_type": "code",
   "execution_count": 66,
   "metadata": {},
   "outputs": [
    {
     "data": {
      "text/html": [
       "<html><script type=\"math/tex; mode=display\">\\newcommand{\\Bold}[1]{\\mathbf{#1}}\\left[-\\frac{1}{2} \\, \\sqrt{177} - \\frac{9}{2}, \\frac{1}{2} \\, \\sqrt{177} - \\frac{9}{2}\\right]</script></html>"
      ],
      "text/latex": [
       "\\begin{math}\n",
       "\\newcommand{\\Bold}[1]{\\mathbf{#1}}\\left[-\\frac{1}{2} \\, \\sqrt{177} - \\frac{9}{2}, \\frac{1}{2} \\, \\sqrt{177} - \\frac{9}{2}\\right]\n",
       "\\end{math}"
      ],
      "text/plain": [
       "[-1/2*sqrt(177) - 9/2, 1/2*sqrt(177) - 9/2]"
      ]
     },
     "metadata": {},
     "output_type": "display_data"
    },
    {
     "data": {
      "text/plain": [
       "'punct instabil de tip sa'"
      ]
     },
     "execution_count": 66,
     "metadata": {},
     "output_type": "execute_result"
    }
   ],
   "source": [
    "J1 = J(x=2,y=4).eigenvalues()\n",
    "show(J1)\n",
    "\"punct instabil de tip sa\""
   ]
  },
  {
   "cell_type": "code",
   "execution_count": 67,
   "metadata": {},
   "outputs": [
    {
     "data": {
      "text/html": [
       "<html><script type=\"math/tex; mode=display\">\\newcommand{\\Bold}[1]{\\mathbf{#1}}\\left[-\\frac{1}{2} \\, \\sqrt{177} - \\frac{9}{2}, \\frac{1}{2} \\, \\sqrt{177} - \\frac{9}{2}\\right]</script></html>"
      ],
      "text/latex": [
       "\\begin{math}\n",
       "\\newcommand{\\Bold}[1]{\\mathbf{#1}}\\left[-\\frac{1}{2} \\, \\sqrt{177} - \\frac{9}{2}, \\frac{1}{2} \\, \\sqrt{177} - \\frac{9}{2}\\right]\n",
       "\\end{math}"
      ],
      "text/plain": [
       "[-1/2*sqrt(177) - 9/2, 1/2*sqrt(177) - 9/2]"
      ]
     },
     "metadata": {},
     "output_type": "display_data"
    },
    {
     "data": {
      "text/plain": [
       "'punct instabil de tip sa'"
      ]
     },
     "execution_count": 67,
     "metadata": {},
     "output_type": "execute_result"
    }
   ],
   "source": [
    "J2 = J(x=i*sqrt(3) - 1, y=-2*i*sqrt(3)-2).eigenvalues()\n",
    "show(J2)\n",
    "\"punct instabil de tip sa\""
   ]
  },
  {
   "cell_type": "code",
   "execution_count": 69,
   "metadata": {},
   "outputs": [
    {
     "data": {
      "text/html": [
       "<html><script type=\"math/tex; mode=display\">\\newcommand{\\Bold}[1]{\\mathbf{#1}}\\left[-\\frac{1}{2} \\, \\sqrt{177} - \\frac{9}{2}, \\frac{1}{2} \\, \\sqrt{177} - \\frac{9}{2}\\right]</script></html>"
      ],
      "text/latex": [
       "\\begin{math}\n",
       "\\newcommand{\\Bold}[1]{\\mathbf{#1}}\\left[-\\frac{1}{2} \\, \\sqrt{177} - \\frac{9}{2}, \\frac{1}{2} \\, \\sqrt{177} - \\frac{9}{2}\\right]\n",
       "\\end{math}"
      ],
      "text/plain": [
       "[-1/2*sqrt(177) - 9/2, 1/2*sqrt(177) - 9/2]"
      ]
     },
     "metadata": {},
     "output_type": "display_data"
    },
    {
     "data": {
      "text/plain": [
       "'punct instabil de tip focus'"
      ]
     },
     "execution_count": 69,
     "metadata": {},
     "output_type": "execute_result"
    }
   ],
   "source": [
    "J3 = J(x=-i*sqrt(3) - 1, y=2*i*sqrt(3)-2).eigenvalues()\n",
    "show(J3)\n",
    "\"punct instabil de tip sa\""
   ]
  },
  {
   "cell_type": "code",
   "execution_count": 71,
   "metadata": {},
   "outputs": [
    {
     "data": {
      "text/html": [
       "<html><script type=\"math/tex; mode=display\">\\newcommand{\\Bold}[1]{\\mathbf{#1}}\\left[-8, -1\\right]</script></html>"
      ],
      "text/latex": [
       "\\begin{math}\n",
       "\\newcommand{\\Bold}[1]{\\mathbf{#1}}\\left[-8, -1\\right]\n",
       "\\end{math}"
      ],
      "text/plain": [
       "[-8, -1]"
      ]
     },
     "metadata": {},
     "output_type": "display_data"
    },
    {
     "data": {
      "text/plain": [
       "'punct instabil de tip nod'"
      ]
     },
     "execution_count": 71,
     "metadata": {},
     "output_type": "execute_result"
    }
   ],
   "source": [
    "J4 = J(x=0, y=0).eigenvalues()\n",
    "show(J4)\n",
    "\"punct instabil de tip nod\""
   ]
  },
  {
   "cell_type": "code",
   "execution_count": null,
   "metadata": {},
   "outputs": [],
   "source": []
  }
 ],
 "metadata": {
  "kernelspec": {
   "display_name": "SageMath 9.2",
   "language": "sage",
   "name": "sagemath"
  },
  "language_info": {
   "codemirror_mode": {
    "name": "ipython",
    "version": 3
   },
   "file_extension": ".py",
   "mimetype": "text/x-python",
   "name": "python",
   "nbconvert_exporter": "python",
   "pygments_lexer": "ipython3",
   "version": "3.7.7"
  }
 },
 "nbformat": 4,
 "nbformat_minor": 4
}
