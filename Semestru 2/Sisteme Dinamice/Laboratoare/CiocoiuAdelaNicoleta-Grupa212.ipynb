{
 "cells": [
  {
   "cell_type": "code",
   "execution_count": 1,
   "metadata": {},
   "outputs": [],
   "source": [
    "#Ciocoiu Adela-Nicoleta"
   ]
  },
  {
   "cell_type": "code",
   "execution_count": 18,
   "metadata": {},
   "outputs": [
    {
     "data": {
      "text/html": [
       "<html><script type=\"math/tex; mode=display\">\\newcommand{\\Bold}[1]{\\mathbf{#1}}\\frac{\\partial}{\\partial t}T\\left(t\\right) = {\\left(\\mathit{Tm} - T\\left(t\\right)\\right)} k</script></html>"
      ],
      "text/latex": [
       "\\begin{math}\n",
       "\\newcommand{\\Bold}[1]{\\mathbf{#1}}\\frac{\\partial}{\\partial t}T\\left(t\\right) = {\\left(\\mathit{Tm} - T\\left(t\\right)\\right)} k\n",
       "\\end{math}"
      ],
      "text/plain": [
       "diff(T(t), t) == (Tm - T(t))*k"
      ]
     },
     "metadata": {},
     "output_type": "display_data"
    }
   ],
   "source": [
    "#1. Modelul lui Newton\n",
    "t,h,TO,Tm=var('t,h,TO,Tm')\n",
    "T=function('T')(t)\n",
    "eq=diff(T,t)==(-k)*(T-Tm)\n",
    "show(eq)"
   ]
  },
  {
   "cell_type": "code",
   "execution_count": 19,
   "metadata": {},
   "outputs": [
    {
     "data": {
      "text/html": [
       "<html><script type=\"math/tex; mode=display\">\\newcommand{\\Bold}[1]{\\mathbf{#1}}\\left( t, k, T_{0}, \\mathit{Tm} \\right) \\ {\\mapsto} \\ {\\left(\\mathit{Tm} e^{\\left(k t\\right)} + T_{0} - \\mathit{Tm}\\right)} e^{\\left(-k t\\right)}</script></html>"
      ],
      "text/latex": [
       "\\begin{math}\n",
       "\\newcommand{\\Bold}[1]{\\mathbf{#1}}\\left( t, k, T_{0}, \\mathit{Tm} \\right) \\ {\\mapsto} \\ {\\left(\\mathit{Tm} e^{\\left(k t\\right)} + T_{0} - \\mathit{Tm}\\right)} e^{\\left(-k t\\right)}\n",
       "\\end{math}"
      ],
      "text/plain": [
       "(t, k, T0, Tm) |--> (Tm*e^(k*t) + T0 - Tm)*e^(-k*t)"
      ]
     },
     "metadata": {},
     "output_type": "display_data"
    }
   ],
   "source": [
    "#1.a)\n",
    "sol(t,k,T0,Tm)=desolve(eq,[T,t],[0,T0])\n",
    "show(sol)"
   ]
  },
  {
   "cell_type": "code",
   "execution_count": 24,
   "metadata": {},
   "outputs": [
    {
     "data": {
      "text/html": [
       "<html><script type=\"math/tex; mode=display\">\\newcommand{\\Bold}[1]{\\mathbf{#1}}\\left[k = \\log\\left(7\\right)\\right]</script></html>"
      ],
      "text/latex": [
       "\\begin{math}\n",
       "\\newcommand{\\Bold}[1]{\\mathbf{#1}}\\left[k = \\log\\left(7\\right)\\right]\n",
       "\\end{math}"
      ],
      "text/plain": [
       "[k == log(7)]"
      ]
     },
     "metadata": {},
     "output_type": "display_data"
    }
   ],
   "source": [
    "#1.b) Tm=5 T0=40 dupa o ora T1=10\n",
    "a=sol(1,k,40,5)==10\n",
    "rez=solve(a,k)\n",
    "show(rez)"
   ]
  },
  {
   "cell_type": "code",
   "execution_count": 26,
   "metadata": {},
   "outputs": [
    {
     "data": {
      "text/html": [
       "<html><script type=\"math/tex; mode=display\">\\newcommand{\\Bold}[1]{\\mathbf{#1}}\\left[x\\left(x\\right) = \\frac{2}{7} \\, {\\left(2 \\, C_{1} + 3 \\, C_{2}\\right)} e^{\\left(7 \\, x\\right)} + \\frac{3}{7} \\, C_{1} - \\frac{6}{7} \\, C_{2}, y\\left(x\\right) = \\frac{1}{7} \\, {\\left(2 \\, C_{1} + 3 \\, C_{2}\\right)} e^{\\left(7 \\, x\\right)} - \\frac{2}{7} \\, C_{1} + \\frac{4}{7} \\, C_{2}\\right]</script></html>"
      ],
      "text/latex": [
       "\\begin{math}\n",
       "\\newcommand{\\Bold}[1]{\\mathbf{#1}}\\left[x\\left(x\\right) = \\frac{2}{7} \\, {\\left(2 \\, C_{1} + 3 \\, C_{2}\\right)} e^{\\left(7 \\, x\\right)} + \\frac{3}{7} \\, C_{1} - \\frac{6}{7} \\, C_{2}, y\\left(x\\right) = \\frac{1}{7} \\, {\\left(2 \\, C_{1} + 3 \\, C_{2}\\right)} e^{\\left(7 \\, x\\right)} - \\frac{2}{7} \\, C_{1} + \\frac{4}{7} \\, C_{2}\\right]\n",
       "\\end{math}"
      ],
      "text/plain": [
       "[x(x) == 2/7*(2*C1 + 3*C2)*e^(7*x) + 3/7*C1 - 6/7*C2,\n",
       " y(x) == 1/7*(2*C1 + 3*C2)*e^(7*x) - 2/7*C1 + 4/7*C2]"
      ]
     },
     "metadata": {},
     "output_type": "display_data"
    }
   ],
   "source": [
    "#2.a)\n",
    "reset()\n",
    "t=var('x')\n",
    "y=function('y')(t)\n",
    "x=function('x')(t)\n",
    "deq1 = diff(x,t)==4*x+6*y\n",
    "deq2 = diff(y,t)==2*x+3*y\n",
    "syst = [deq1,deq2]\n",
    "C1,C2 = var('C1,C2')\n",
    "rez = desolve_system(syst,[x,y],[0,C1,C2])\n",
    "show(rez)"
   ]
  },
  {
   "cell_type": "code",
   "execution_count": 31,
   "metadata": {},
   "outputs": [
    {
     "data": {
      "image/png": "[encoded data removed]",
      "text/plain": [
       "Graphics object consisting of 2 graphics primitives"
      ]
     },
     "metadata": {},
     "output_type": "display_data"
    }
   ],
   "source": [
    "rez2 = desolve_system(syst,[x,y],[0,2,2])\n",
    "sol_x =rez2[0].rhs()\n",
    "sol_y =rez2[1].rhs()\n",
    "g1=plot(sol_x,t,-1,1)\n",
    "g2=plot(sol_y,t,-1,1)\n",
    "show(g1+g2)"
   ]
  },
  {
   "cell_type": "code",
   "execution_count": 36,
   "metadata": {},
   "outputs": [
    {
     "name": "stdout",
     "output_type": "stream",
     "text": [
      "Pentru punctul de echiliblu  0  este locat asimtotic stabila\n",
      "Pentru punctul de echiliblu  2  este instabil\n",
      "Pentru punctul de echiliblu  4  este locat asimtotic stabila\n"
     ]
    }
   ],
   "source": [
    "#2. Punct de echilibru si stabilitate\n",
    "reset()\n",
    "t=var('t')\n",
    "x=function('x')(t)\n",
    "s=var('s')\n",
    "f=function('f')(s)\n",
    "f(s)=s*(2-s)*(s-4)\n",
    "a = solve(f(s)==0,s)\n",
    "x1 = a[0].rhs()\n",
    "x2 = a[1].rhs()\n",
    "x3 = a[2].rhs()\n",
    "#x1,x2,x3 puncte de echilibru\n",
    "if diff(f,s)(x1)<0 : print(\"Pentru punctul de echiliblu \",x1,\" este locat asimtotic stabila\")\n",
    "elif diff(f,s)(x1)>0: print(\"Pentru punctul de echiliblu \",x1,\" este instabil\")\n",
    "                            \n",
    "if diff(f,s)(x2)<0 : print(\"Pentru punctul de echiliblu \",x2,\" este locat asimtotic stabila\")\n",
    "elif diff(f,s)(x2)>0 : print(\"Pentru punctul de echiliblu \",x2,\" este instabil\")\n",
    "if diff(f,s)(x3)<0 : print(\"Pentru punctul de echiliblu \",x3,\" este locat asimtotic stabila\")\n",
    "elif diff(f,s)(x3)>0 : print(\"Pentru punctul de echiliblu \",x3,\" este instabil\")"
   ]
  },
  {
   "cell_type": "code",
   "execution_count": 81,
   "metadata": {},
   "outputs": [
    {
     "name": "stdout",
     "output_type": "stream",
     "text": [
      "Punctele de echilibru sunt\n"
     ]
    },
    {
     "data": {
      "text/html": [
       "<html><script type=\"math/tex; mode=display\">\\newcommand{\\Bold}[1]{\\mathbf{#1}}\\left[\\left[x = \\left(-2 i\\right), y = \\left(\\frac{1}{2} i\\right)\\right], \\left[x = \\left(2 i\\right), y = \\left(-\\frac{1}{2} i\\right)\\right], \\left[x = 2, y = \\left(\\frac{1}{2}\\right)\\right], \\left[x = \\left(-2\\right), y = \\left(-\\frac{1}{2}\\right)\\right]\\right]</script></html>"
      ],
      "text/latex": [
       "\\begin{math}\n",
       "\\newcommand{\\Bold}[1]{\\mathbf{#1}}\\left[\\left[x = \\left(-2 i\\right), y = \\left(\\frac{1}{2} i\\right)\\right], \\left[x = \\left(2 i\\right), y = \\left(-\\frac{1}{2} i\\right)\\right], \\left[x = 2, y = \\left(\\frac{1}{2}\\right)\\right], \\left[x = \\left(-2\\right), y = \\left(-\\frac{1}{2}\\right)\\right]\\right]\n",
       "\\end{math}"
      ],
      "text/plain": [
       "[[x == (-2*I), y == (1/2*I)], [x == (2*I), y == (-1/2*I)], [x == 2, y == (1/2)], [x == -2, y == (-1/2)]]"
      ]
     },
     "metadata": {},
     "output_type": "display_data"
    }
   ],
   "source": [
    "#4.\n",
    "#2.a)\n",
    "reset()\n",
    "x,t,y=var('x,t,y')\n",
    "f1(x,y)=x*y-1\n",
    "f2(x,y)=x^2-16*(y^2)\n",
    "eq=solve([f1(x,y)==0,f2(x,y)==0],x,y)\n",
    "print(\"Punctele de echilibru sunt\")\n",
    "show(eq)"
   ]
  },
  {
   "cell_type": "code",
   "execution_count": 82,
   "metadata": {},
   "outputs": [
    {
     "data": {
      "text/html": [
       "<html><script type=\"math/tex; mode=display\">\\newcommand{\\Bold}[1]{\\mathbf{#1}}\\left(\\begin{array}{rr}\n",
       "y & x \\\\\n",
       "2 \\, x & -32 \\, y\n",
       "\\end{array}\\right)</script></html>"
      ],
      "text/latex": [
       "\\begin{math}\n",
       "\\newcommand{\\Bold}[1]{\\mathbf{#1}}\\left(\\begin{array}{rr}\n",
       "y & x \\\\\n",
       "2 \\, x & -32 \\, y\n",
       "\\end{array}\\right)\n",
       "\\end{math}"
      ],
      "text/plain": [
       "[    y     x]\n",
       "[  2*x -32*y]"
      ]
     },
     "metadata": {},
     "output_type": "display_data"
    }
   ],
   "source": [
    "show(jacobian((f1(x,y),f2(x,y)),(x,y)))"
   ]
  },
  {
   "cell_type": "code",
   "execution_count": 84,
   "metadata": {},
   "outputs": [
    {
     "name": "stdout",
     "output_type": "stream",
     "text": [
      "Punctul (-2*i , 1/2*i) este local asimtotic stabil de tip focus! \n",
      "Punctul (2*i , -1/2*i) este local asimtotic stabil de tip focus! \n",
      "Punctul (2 , 1/2) este instabil de tip sa! \n",
      "Punctul (-2 , -1/2) este instabil de tip sa! \n"
     ]
    },
    {
     "data": {
      "text/html": [
       "<html><script type=\"math/tex; mode=display\">\\newcommand{\\Bold}[1]{\\mathbf{#1}}-\\frac{1}{4} \\, \\sqrt{1217} + \\frac{31}{4}</script></html>"
      ],
      "text/latex": [
       "\\begin{math}\n",
       "\\newcommand{\\Bold}[1]{\\mathbf{#1}}-\\frac{1}{4} \\, \\sqrt{1217} + \\frac{31}{4}\n",
       "\\end{math}"
      ],
      "text/plain": [
       "-1/4*sqrt(1217) + 31/4"
      ]
     },
     "metadata": {},
     "output_type": "display_data"
    },
    {
     "data": {
      "text/html": [
       "<html><script type=\"math/tex; mode=display\">\\newcommand{\\Bold}[1]{\\mathbf{#1}}\\frac{1}{4} \\, \\sqrt{1217} + \\frac{31}{4}</script></html>"
      ],
      "text/latex": [
       "\\begin{math}\n",
       "\\newcommand{\\Bold}[1]{\\mathbf{#1}}\\frac{1}{4} \\, \\sqrt{1217} + \\frac{31}{4}\n",
       "\\end{math}"
      ],
      "text/plain": [
       "1/4*sqrt(1217) + 31/4"
      ]
     },
     "metadata": {},
     "output_type": "display_data"
    }
   ],
   "source": [
    "j=jacobian((f1(x,y),f2(x,y)),(x,y))\n",
    "r1=j(x=-2*i,y=(1/2)*i).eigenvalues()\n",
    "r1_1=r1[0]\n",
    "r1_2=r1[1]\n",
    "print(\"Punctul (-2*i , 1/2*i) este local asimtotic stabil de tip focus! \")\n",
    "r2=j(x=2*i,y=(-1/2)*i).eigenvalues()\n",
    "r2_1=r2[0]\n",
    "r2_2=r2[1]\n",
    "print(\"Punctul (2*i , -1/2*i) este local asimtotic stabil de tip focus! \")\n",
    "\n",
    "r3=j(x=2,y=1/2).eigenvalues()\n",
    "r3_1=r3[0]\n",
    "r3_2=r3[1]\n",
    "print(\"Punctul (2 , 1/2) este instabil de tip sa! \")\n",
    "r4=j(x=-2,y=-1/2).eigenvalues()\n",
    "r4_1=r4[0]\n",
    "r4_2=r4[1]\n",
    "print(\"Punctul (-2 , -1/2) este instabil de tip sa! \")\n",
    "show(r4_1)\n",
    "show(r4_2)\n"
   ]
  },
  {
   "cell_type": "code",
   "execution_count": 87,
   "metadata": {},
   "outputs": [
    {
     "name": "stdout",
     "output_type": "stream",
     "text": [
      "Pentru punctul de echiliblu  0  este locat asimtotic stabila\n",
      "Pentru punctul de echiliblu  2  este instabil\n",
      "Pentru punctul de echiliblu  4  este locat asimtotic stabila\n"
     ]
    }
   ],
   "source": [
    "#3. Punct de echilibru si stabilitate\n",
    "reset()\n",
    "t=var('t')\n",
    "x=function('x')(t)\n",
    "s=var('s')\n",
    "f=function('f')(s)\n",
    "f(s)=s*(2-s)*(s-4)\n",
    "a = solve(f(s)==0,s)\n",
    "x1 = a[0].rhs()\n",
    "x2 = a[1].rhs()\n",
    "x3 = a[2].rhs()\n",
    "#x1,x2,x3 puncte de echilibru\n",
    "if diff(f,s)(x1)<0 : print(\"Pentru punctul de echiliblu \",x1,\" este locat asimtotic stabila\")\n",
    "elif diff(f,s)(x1)>0: print(\"Pentru punctul de echiliblu \",x1,\" este instabil\")\n",
    "                            \n",
    "if diff(f,s)(x2)<0 : print(\"Pentru punctul de echiliblu \",x2,\" este locat asimtotic stabila\")\n",
    "elif diff(f,s)(x2)>0 : print(\"Pentru punctul de echiliblu \",x2,\" este instabil\")\n",
    "if diff(f,s)(x3)<0 : print(\"Pentru punctul de echiliblu \",x3,\" este locat asimtotic stabila\")\n",
    "elif diff(f,s)(x3)>0 : print(\"Pentru punctul de echiliblu \",x3,\" este instabil\")"
   ]
  },
  {
   "cell_type": "code",
   "execution_count": 88,
   "metadata": {},
   "outputs": [
    {
     "data": {
      "image/png": "[encoded data removed]",
      "text/plain": [
       "Graphics object consisting of 7 graphics primitives"
      ]
     },
     "metadata": {},
     "output_type": "display_data"
    }
   ],
   "source": [
    "#2. Rezultat in forma implicita grafic b)\n",
    "eqd = diff(x,t)==f(x)\n",
    "g = desolve_rk4(eqd, x, [0, -1], step = 0.01, end_points = [0, 2], output = 'plot')\n",
    "for i in [0..5]:\n",
    "        g1 = desolve_rk4(eqd, x, [0, i], step = 0.01, end_points = [0, 2], output = 'plot')\n",
    "        g=g+g1\n",
    "g.show(ymin = -5, ymax = 5)"
   ]
  },
  {
   "cell_type": "code",
   "execution_count": null,
   "metadata": {},
   "outputs": [],
   "source": []
  },
  {
   "cell_type": "code",
   "execution_count": null,
   "metadata": {},
   "outputs": [],
   "source": []
  }
 ],
 "metadata": {
  "kernelspec": {
   "display_name": "SageMath 9.2",
   "language": "sage",
   "name": "sagemath"
  },
  "language_info": {
   "codemirror_mode": {
    "name": "ipython",
    "version": 3
   },
   "file_extension": ".py",
   "mimetype": "text/x-python",
   "name": "python",
   "nbconvert_exporter": "python",
   "pygments_lexer": "ipython3",
   "version": "3.7.7"
  }
 },
 "nbformat": 4,
 "nbformat_minor": 4
}
