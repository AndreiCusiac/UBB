{
 "cells": [
  {
   "cell_type": "code",
   "execution_count": 32,
   "id": "cac5a8a1",
   "metadata": {},
   "outputs": [],
   "source": [
    "from math import sqrt\n",
    "import math\n",
    "import matplotlib.pyplot as plt\n",
    "import numpy as np\n",
    "\n",
    "import pandas as pd\n",
    "from sklearn.metrics import mean_squared_error as mse\n",
    "\n",
    "import csv"
   ]
  },
  {
   "cell_type": "code",
   "execution_count": 2,
   "id": "b3d325ff",
   "metadata": {},
   "outputs": [],
   "source": [
    "def readFile(file_name):\n",
    "    file_path = 'data/' + file_name + '.csv'\n",
    "    file = open(file_path)\n",
    "\n",
    "    csvreader = csv.reader(file)\n",
    "\n",
    "    header = []\n",
    "    header = next(csvreader)\n",
    "\n",
    "    rows = []\n",
    "    for row in csvreader:\n",
    "        rows.append(row)\n",
    "\n",
    "    print(\"Header:\", header)\n",
    "    print(\"Rows:\", rows)\n",
    "\n",
    "    dict = {'header': header, 'rows': rows}\n",
    "\n",
    "    file.close()\n",
    "\n",
    "    return dict"
   ]
  },
  {
   "cell_type": "code",
   "execution_count": 3,
   "id": "be59093f",
   "metadata": {},
   "outputs": [],
   "source": [
    "def realComputedParser(dictInput, no_of_parameters = 1):\n",
    "    rows = dictInput['rows']\n",
    "\n",
    "    realOutputs = []\n",
    "    computedOutputs = []\n",
    "\n",
    "    for values in rows:\n",
    "        newReal = []\n",
    "        newComputed = []\n",
    "\n",
    "        for i in range (0, no_of_parameters):\n",
    "            newReal.append(int(values[i]))\n",
    "\n",
    "        for i in range (no_of_parameters, no_of_parameters * 2):\n",
    "            newComputed.append(int(values[i]))\n",
    "\n",
    "        realOutputs.append(newReal)\n",
    "        computedOutputs.append(newComputed)\n",
    "\n",
    "    dict = {'realOutputs': realOutputs, 'computedOutputs': computedOutputs}\n",
    "\n",
    "    print(\"Real:\", dict['realOutputs'])\n",
    "    print(\"Computed:\", dict['computedOutputs'])\n",
    "\n",
    "    return dict"
   ]
  },
  {
   "cell_type": "code",
   "execution_count": 4,
   "id": "75ac5653",
   "metadata": {},
   "outputs": [],
   "source": [
    "def realComputedLabelsParser(dictInput, no_of_parameters = 1):\n",
    "    rows = dictInput['rows']\n",
    "\n",
    "    realOutputs = []\n",
    "    computedOutputs = []\n",
    "\n",
    "\n",
    "    for values in rows:\n",
    "\n",
    "        for i in range (0, no_of_parameters):\n",
    "            realOutputs.append(values[i])\n",
    "\n",
    "        for i in range (no_of_parameters, no_of_parameters * 2):\n",
    "            computedOutputs.append(values[i])\n",
    "\n",
    "    dict = {'realLabels': realOutputs, 'computedLabels': computedOutputs}\n",
    "\n",
    "    print(\"Real:\", dict['realLabels'])\n",
    "    print(\"Computed:\", dict['computedLabels'])\n",
    "\n",
    "    return dict"
   ]
  },
  {
   "cell_type": "code",
   "execution_count": 5,
   "id": "390dcc3a",
   "metadata": {},
   "outputs": [],
   "source": [
    "def calculateMultiTargetRegression(dict_values, no_of_paramteres = 1):\n",
    "\n",
    "    # realOutputs = [[3, 9], [4, 5], [6, 7], [2, 1]]\n",
    "    # computedOutputs = [[2, 7], [4.5, 6], [3, 8], [3, 1.2]]\n",
    "\n",
    "    realOutputs = dict_values['realOutputs']\n",
    "    computedOutputs = dict_values['computedOutputs']\n",
    "\n",
    "    errorL1 = sum([sum([abs((r - c)) for r, c in zip(realOut, computedOut)]) / no_of_paramteres for realOut, computedOut in zip(realOutputs, computedOutputs)]) / len(realOutputs)\n",
    "\n",
    "    errorL2 = sqrt(sum([sum([(r - c) ** 2 for r, c in zip(realOut, computedOut)]) / no_of_paramteres for realOut, computedOut in zip(realOutputs, computedOutputs)]) / len(realOutputs))\n",
    "\n",
    "    print('Error (L1): ', errorL1)\n",
    "    print('Error (L2): ', errorL2)"
   ]
  },
  {
   "cell_type": "code",
   "execution_count": 6,
   "id": "8311647d",
   "metadata": {},
   "outputs": [],
   "source": [
    "def calculateMultiLabelClassification(dict_values, no_of_labels = None):\n",
    "\n",
    "    realLabels = dict_values['realLabels']\n",
    "    computedLabels = dict_values['computedLabels']\n",
    "\n",
    "    def evalMultiClassV1(realLabels, computedLabels, labelNames):\n",
    "        acc = sum([1 if realLabels[i] == computedLabels[i] else 0 for i in range(0, len(realLabels))]) / len(realLabels)\n",
    "        TP = {}\n",
    "        FP = {}\n",
    "        TN = {}\n",
    "        FN = {}\n",
    "        for label in labelNames:\n",
    "            TP[label] = sum(\n",
    "                [1 if (realLabels[i] == label and computedLabels[i] == label) else 0 for i in range(len(realLabels))])\n",
    "            FP[label] = sum(\n",
    "                [1 if (realLabels[i] != label and computedLabels[i] == label) else 0 for i in range(len(realLabels))])\n",
    "            TN[label] = sum(\n",
    "                [1 if (realLabels[i] != label and computedLabels[i] != label) else 0 for i in range(len(realLabels))])\n",
    "            FN[label] = sum(\n",
    "                [1 if (realLabels[i] == label and computedLabels[i] != label) else 0 for i in range(len(realLabels))])\n",
    "\n",
    "        precision = {}\n",
    "        recall = {}\n",
    "        for label in labelNames:\n",
    "            precision[label] = TP[label] / (TP[label] + FP[label])\n",
    "            recall[label] = TP[label] / (TP[label] + FN[label])\n",
    "\n",
    "        return acc, precision, recall\n",
    "\n",
    "    def evalMultiClassV2(realLabels, computedLabels, labelNames):\n",
    "        confMatrix = [[0 for _ in labelNames] for _ in labelNames]\n",
    "        for k in range(len(realLabels)):\n",
    "            for i in range(len(labelNames)):\n",
    "                for j in range(len(labelNames)):\n",
    "                    if (realLabels[k] == labelNames[i]) and (computedLabels[k] == labelNames[j]):\n",
    "                        confMatrix[i][j] += 1\n",
    "        acc = sum([confMatrix[i][i] for i in range(len(labelNames))]) / len(realLabels)\n",
    "        precision = {}\n",
    "        recall = {}\n",
    "        for i in range(len(labelNames)):\n",
    "            precision[labelNames[i]] = confMatrix[i][i] / sum([confMatrix[j][i] for j in range(len(labelNames))])\n",
    "            recall[labelNames[i]] = confMatrix[i][i] / sum([confMatrix[i][j] for j in range(len(labelNames))])\n",
    "        return acc, precision, recall\n",
    "\n",
    "    acc, prec, recall = evalMultiClassV1(realLabels, computedLabels, list(set(realLabels)))\n",
    "    print('accV1: ', acc, ' precisionV1: ', prec, ' recallV1: ', recall)\n",
    "\n",
    "\n",
    "    # acc, prec, recall = evalMultiClassV2(realLabels, computedLabels, list(set(realLabels)))\n",
    "\n",
    "    # use sklearn functions (evalClassificationV1 was already defined for binary classification problem, but it can be used for multi-class case, also)\n",
    "    # acc, prec, recall = evalClassificationV1(realLabels, computedLabels, list(set(realLabels)))\n",
    "\n",
    "    # print('accV2: ', acc, ' precisionV2: ', prec, ' recallV2: ', recall)"
   ]
  },
  {
   "cell_type": "code",
   "execution_count": 39,
   "id": "dd590b43",
   "metadata": {},
   "outputs": [],
   "source": [
    "# creating the sample dataset\n",
    "\n",
    "experience = [1.2,1.5,1.9,2.2,2.4,2.5,2.8,3.1,3.3,3.7,4.2,4.4]\n",
    "salary = [1.7,2.4,2.3,3.1,3.7,4.2,4.4,6.1,5.4,5.7,6.4,6.2]\n",
    "\n",
    "data = pd.DataFrame({\n",
    "\"salary\" : salary,\n",
    "\"experience\" : experience\n",
    "})\n"
   ]
  },
  {
   "cell_type": "code",
   "execution_count": 41,
   "id": "8f6c2c67",
   "metadata": {},
   "outputs": [],
   "source": [
    "def Error(Beta, data):\n",
    "\n",
    "# b is constant\n",
    "    b = 1.1\n",
    "\n",
    "    salary = []\n",
    "    experience = data.experience\n",
    "\n",
    "# Loop to calculate predict salary variables\n",
    "    for i in range(len(data.experience)):\n",
    "        tmp = data.experience[i] * Beta + b\n",
    "        salary.append(tmp)\n",
    "\n",
    "    MSE = mse(data.salary, salary)\n",
    "    return MSE"
   ]
  },
  {
   "cell_type": "code",
   "execution_count": 48,
   "id": "b1a32345",
   "metadata": {
    "scrolled": false
   },
   "outputs": [
    {
     "name": "stdout",
     "output_type": "stream",
     "text": [
      "Cost:12.791666666666666; Beta:0.0\n",
      "Cost:10.81115; Beta:0.1\n",
      "Cost:9.0026; Beta:0.2\n",
      "Cost:7.366016666666666; Beta:0.3\n",
      "Cost:5.9014; Beta:0.4\n",
      "Cost:4.608750000000001; Beta:0.5\n",
      "Cost:3.4880666666666666; Beta:0.6\n",
      "Cost:2.53935; Beta:0.7\n",
      "Cost:1.762599999999999; Beta:0.8\n",
      "Cost:1.1578166666666665; Beta:0.9\n",
      "Cost:0.7249999999999998; Beta:1.0\n",
      "Cost:0.4641499999999998; Beta:1.1\n",
      "Cost:0.3752666666666666; Beta:1.2\n",
      "Cost:0.45835; Beta:1.3\n",
      "Cost:0.7133999999999996; Beta:1.4\n",
      "Cost:1.1404166666666662; Beta:1.5\n",
      "Cost:1.7394000000000007; Beta:1.6\n",
      "Cost:2.5103499999999994; Beta:1.7\n",
      "Cost:3.4532666666666665; Beta:1.8\n",
      "Cost:4.568149999999999; Beta:1.9\n"
     ]
    }
   ],
   "source": [
    "# Range of slopes from 0 to 1.5 with increment of 0.01\n",
    "\n",
    "slope = [i/10 for i in range(0,20)]\n",
    "Cost = []\n",
    "for i in slope:\n",
    "    cost = Error( Beta = i, data = data)\n",
    "    print('Cost:' + str(cost) + '; ' + 'Beta:' + str(i))\n",
    "    Cost.append(cost)"
   ]
  },
  {
   "cell_type": "code",
   "execution_count": null,
   "id": "7dfaecd3",
   "metadata": {},
   "outputs": [],
   "source": []
  },
  {
   "cell_type": "code",
   "execution_count": 23,
   "id": "b8492d32",
   "metadata": {},
   "outputs": [],
   "source": [
    "def evalLogLossV1(realLabels, computedOutputs):\n",
    "    # suppose that 'spam' is the positive class\n",
    "    realOutputs = [[1, 0] if label == 'spam' else [0, 1] for label in realLabels]\n",
    "    datasetSize = len(realLabels)\n",
    "    noClasses = len(set(realLabels))\n",
    "    datasetCE = 0.0\n",
    "    for i in range(datasetSize):\n",
    "        sampleCE = - sum([realOutputs[i][j] * math.log(computedOutputs[i][j]) for j in range(noClasses)])\n",
    "        datasetCE += sampleCE\n",
    "    meanCE = datasetCE / datasetSize\n",
    "    return meanCE"
   ]
  },
  {
   "cell_type": "code",
   "execution_count": 31,
   "id": "60b3f8c5",
   "metadata": {},
   "outputs": [
    {
     "name": "stdout",
     "output_type": "stream",
     "text": [
      "CE Loss V1:  0.9668624701108084\n",
      "CE Loss V1:  0.9411706901395985\n",
      "CE Loss V1:  0.9189154580355114\n",
      "CE Loss V1:  0.8992849520927809\n"
     ]
    }
   ],
   "source": [
    "realLabels = ['spam', 'spam', 'ham', 'ham', 'spam', 'ham']\n",
    "computedOutputs = [[0.6, 0.4], [0.2, 0.8], [0.4, 0.6], [0.9, 0.1], [0.7, 0.3], [0.4, 0.6]]\n",
    "\n",
    "print('CE Loss V1: ', evalLogLossV1(realLabels, computedOutputs))\n",
    "\n",
    "realLabels = ['spam', 'spam', 'ham', 'ham', 'spam', 'ham']\n",
    "computedOutputs = [[0.7, 0.3], [0.2, 0.8], [0.4, 0.6], [0.9, 0.1], [0.7, 0.3], [0.4, 0.6]]\n",
    "\n",
    "print('CE Loss V1: ', evalLogLossV1(realLabels, computedOutputs))\n",
    "\n",
    "realLabels = ['spam', 'spam', 'ham', 'ham', 'spam', 'ham']\n",
    "computedOutputs = [[0.8, 0.2], [0.2, 0.8], [0.4, 0.6], [0.9, 0.1], [0.7, 0.3], [0.4, 0.6]]\n",
    "\n",
    "print('CE Loss V1: ', evalLogLossV1(realLabels, computedOutputs))\n",
    "\n",
    "realLabels = ['spam', 'spam', 'ham', 'ham', 'spam', 'ham']\n",
    "computedOutputs = [[0.9, 0.1], [0.2, 0.8], [0.4, 0.6], [0.9, 0.1], [0.7, 0.3], [0.4, 0.6]]\n",
    "\n",
    "print('CE Loss V1: ', evalLogLossV1(realLabels, computedOutputs))"
   ]
  },
  {
   "cell_type": "code",
   "execution_count": 33,
   "id": "86977b36",
   "metadata": {},
   "outputs": [],
   "source": [
    "def evalSoftmaxCEsample(targetValues, rawOutputs):\n",
    "    # apply softmax for all raw outputs\n",
    "    noClasses = len(targetValues)\n",
    "    expValues =[math.exp(val) for val in rawOutputs]\n",
    "    sumExpVal = sum(expValues)\n",
    "    mapOutputs = [val / sumExpVal for val in expValues]\n",
    "    print(mapOutputs, ' sum: ', sum(mapOutputs))\n",
    "    sampleCE = - sum([targetValues[j] * math.log(mapOutputs[j]) for j in range(noClasses)])\n",
    "    return sampleCE"
   ]
  },
  {
   "cell_type": "code",
   "execution_count": 34,
   "id": "c9014b22",
   "metadata": {},
   "outputs": [
    {
     "name": "stdout",
     "output_type": "stream",
     "text": [
      "[0.03484836302329512, 0.19075810587732892, 0.06349785742757948, 0.6333392154724897, 0.0775564581993068]  sum:  1.0\n",
      "0.45674911495070264\n",
      "[0.03484836302329512, 0.19075810587732892, 0.06349785742757948, 0.6333392154724897, 0.0775564581993068]  sum:  1.0\n",
      "1.6567491149507025\n",
      "[0.03484836302329512, 0.19075810587732892, 0.06349785742757948, 0.6333392154724897, 0.0775564581993068]  sum:  1.0\n",
      "2.5567491149507027\n",
      "[0.03484836302329512, 0.19075810587732892, 0.06349785742757948, 0.6333392154724897, 0.0775564581993068]  sum:  1.0\n",
      "2.7567491149507024\n",
      "[0.03484836302329512, 0.19075810587732892, 0.06349785742757948, 0.6333392154724897, 0.0775564581993068]  sum:  1.0\n",
      "3.3567491149507025\n",
      "\n",
      "\n"
     ]
    }
   ],
   "source": [
    "print(evalSoftmaxCEsample([0, 0, 0, 1, 0], [-0.5, 1.2, 0.1, 2.4, 0.3]))\n",
    "print(evalSoftmaxCEsample([0, 1, 0, 0, 0], [-0.5, 1.2, 0.1, 2.4, 0.3]))\n",
    "print(evalSoftmaxCEsample([0, 0, 0, 0, 1], [-0.5, 1.2, 0.1, 2.4, 0.3]))\n",
    "print(evalSoftmaxCEsample([0, 0, 1, 0, 0], [-0.5, 1.2, 0.1, 2.4, 0.3]))\n",
    "print(evalSoftmaxCEsample([1, 0, 0, 0, 0], [-0.5, 1.2, 0.1, 2.4, 0.3]))\n",
    "print('\\n')"
   ]
  },
  {
   "cell_type": "code",
   "execution_count": 35,
   "id": "69da8175",
   "metadata": {},
   "outputs": [],
   "source": [
    "def evalSigmoidCEsample(targetValues, rawOutputs):\n",
    "    # apply softmax for all raw outputs\n",
    "    noClasses = len(targetValues)\n",
    "    mapOutputs = [1 / (1 + math.exp(-val)) for val in rawOutputs]\n",
    "    print(mapOutputs, ' sum: ', sum(mapOutputs))\n",
    "    sampleCE = - sum([targetValues[j] * math.log(mapOutputs[j]) for j in range(noClasses)])\n",
    "    return sampleCE"
   ]
  },
  {
   "cell_type": "code",
   "execution_count": 38,
   "id": "a5bd2a74",
   "metadata": {
    "scrolled": true
   },
   "outputs": [
    {
     "name": "stdout",
     "output_type": "stream",
     "text": [
      "[0.3775406687981454, 0.7685247834990175, 0.52497918747894, 0.9168273035060777, 0.574442516811659]  sum:  3.1623144600938398\n",
      "0.08683615215394964\n",
      "[0.3775406687981454, 0.7685247834990175, 0.52497918747894, 0.9168273035060777, 0.574442516811659]  sum:  3.1623144600938398\n",
      "0.350118619491981\n",
      "[0.3775406687981454, 0.7685247834990175, 0.52497918747894, 0.9168273035060777, 0.574442516811659]  sum:  3.1623144600938398\n",
      "0.8176377118065583\n",
      "[0.3775406687981454, 0.7685247834990175, 0.52497918747894, 0.9168273035060777, 0.574442516811659]  sum:  3.1623144600938398\n",
      "0.904473863960508\n",
      "[0.3775406687981454, 0.7685247834990175, 0.52497918747894, 0.9168273035060777, 0.574442516811659]  sum:  3.1623144600938398\n",
      "2.5229475082141857\n"
     ]
    }
   ],
   "source": [
    "print(evalSigmoidCEsample([0, 0, 0, 1, 0], [-0.5, 1.2, 0.1, 2.4, 0.3]))\n",
    "print(evalSigmoidCEsample([0, 1, 0, 1, 0], [-0.5, 1.2, 0.1, 2.4, 0.3]))\n",
    "print(evalSigmoidCEsample([0, 1, 0, 0, 1], [-0.5, 1.2, 0.1, 2.4, 0.3]))\n",
    "print(evalSigmoidCEsample([0, 1, 0, 1, 1], [-0.5, 1.2, 0.1, 2.4, 0.3]))\n",
    "print(evalSigmoidCEsample([1, 1, 1, 1, 1], [-0.5, 1.2, 0.1, 2.4, 0.3]))"
   ]
  },
  {
   "cell_type": "markdown",
   "id": "58959fef",
   "metadata": {},
   "source": [
    "# Sport"
   ]
  },
  {
   "cell_type": "code",
   "execution_count": 20,
   "id": "a67e2167",
   "metadata": {},
   "outputs": [
    {
     "name": "stdout",
     "output_type": "stream",
     "text": [
      "sport.csv\n",
      "\n",
      "\n",
      "Header: ['Weight', 'Waist', 'Pulse', 'PredictedWeight', 'PredictedWaist', 'PredictedPulse']\n",
      "Rows: [['191', '36', '50', '199', '34', '50'], ['189', '37', '52', '182', '37', '53'], ['193', '38', '58', '203', '37', '57'], ['162', '35', '62', '159', '33', '60'], ['189', '35', '46', '182', '37', '42'], ['182', '36', '56', '184', '37', '61'], ['211', '38', '56', '212', '37', '57'], ['167', '34', '60', '168', '33', '60'], ['176', '31', '74', '177', '31', '72'], ['154', '33', '56', '154', '35', '58'], ['169', '34', '50', '161', '33', '51'], ['166', '33', '52', '172', '34', '53'], ['154', '34', '64', '146', '36', '61'], ['247', '46', '50', '249', '46', '52'], ['193', '36', '46', '192', '39', '43'], ['202', '37', '62', '205', '38', '60'], ['176', '37', '54', '170', '35', '54'], ['157', '32', '52', '148', '30', '55'], ['156', '33', '54', '166', '31', '50'], ['138', '33', '68', '144', '34', '68']]\n",
      "\n",
      "\n",
      "Real: [[191, 36, 50], [189, 37, 52], [193, 38, 58], [162, 35, 62], [189, 35, 46], [182, 36, 56], [211, 38, 56], [167, 34, 60], [176, 31, 74], [154, 33, 56], [169, 34, 50], [166, 33, 52], [154, 34, 64], [247, 46, 50], [193, 36, 46], [202, 37, 62], [176, 37, 54], [157, 32, 52], [156, 33, 54], [138, 33, 68]]\n",
      "Computed: [[199, 34, 50], [182, 37, 53], [203, 37, 57], [159, 33, 60], [182, 37, 42], [184, 37, 61], [212, 37, 57], [168, 33, 60], [177, 31, 72], [154, 35, 58], [161, 33, 51], [172, 34, 53], [146, 36, 61], [249, 46, 52], [192, 39, 43], [205, 38, 60], [170, 35, 54], [148, 30, 55], [166, 31, 50], [144, 34, 68]]\n"
     ]
    }
   ],
   "source": [
    "file_name = \"sport\"\n",
    "print(file_name + '.csv')\n",
    "print('\\n')\n",
    "dict =  readFile(file_name)\n",
    "print('\\n')\n",
    "dict_values = realComputedParser(dict, 3)"
   ]
  },
  {
   "cell_type": "code",
   "execution_count": 16,
   "id": "47d75521",
   "metadata": {},
   "outputs": [
    {
     "name": "stdout",
     "output_type": "stream",
     "text": [
      "Error (L1):  2.7166666666666672\n",
      "Error (L2):  3.8013155617496426\n"
     ]
    }
   ],
   "source": [
    "calculateMultiTargetRegression(dict_values, 3)"
   ]
  },
  {
   "cell_type": "markdown",
   "id": "79b39d88",
   "metadata": {},
   "source": [
    "# Flowers"
   ]
  },
  {
   "cell_type": "code",
   "execution_count": 21,
   "id": "9ac3b3c4",
   "metadata": {},
   "outputs": [
    {
     "name": "stdout",
     "output_type": "stream",
     "text": [
      "flowers.csv\n",
      "\n",
      "\n",
      "Header: ['Type', 'PredictedType']\n",
      "Rows: [['Daisy', 'Daisy'], ['Tulip', 'Daisy'], ['Rose', 'Tulip'], ['Daisy', 'Daisy'], ['Daisy', 'Rose'], ['Daisy', 'Tulip'], ['Rose', 'Rose'], ['Rose', 'Daisy'], ['Daisy', 'Rose'], ['Tulip', 'Tulip'], ['Rose', 'Tulip'], ['Daisy', 'Rose'], ['Daisy', 'Tulip'], ['Daisy', 'Daisy'], ['Daisy', 'Tulip'], ['Tulip', 'Rose'], ['Daisy', 'Daisy'], ['Rose', 'Daisy'], ['Tulip', 'Daisy'], ['Rose', 'Rose'], ['Daisy', 'Rose'], ['Rose', 'Daisy'], ['Tulip', 'Tulip'], ['Tulip', 'Rose'], ['Rose', 'Daisy'], ['Tulip', 'Daisy']]\n",
      "\n",
      "\n",
      "Real: ['Daisy', 'Tulip', 'Rose', 'Daisy', 'Daisy', 'Daisy', 'Rose', 'Rose', 'Daisy', 'Tulip', 'Rose', 'Daisy', 'Daisy', 'Daisy', 'Daisy', 'Tulip', 'Daisy', 'Rose', 'Tulip', 'Rose', 'Daisy', 'Rose', 'Tulip', 'Tulip', 'Rose', 'Tulip']\n",
      "Computed: ['Daisy', 'Daisy', 'Tulip', 'Daisy', 'Rose', 'Tulip', 'Rose', 'Daisy', 'Rose', 'Tulip', 'Tulip', 'Rose', 'Tulip', 'Daisy', 'Tulip', 'Rose', 'Daisy', 'Daisy', 'Daisy', 'Rose', 'Rose', 'Daisy', 'Tulip', 'Rose', 'Daisy', 'Daisy']\n"
     ]
    }
   ],
   "source": [
    "file_name = \"flowers\"\n",
    "print(file_name + '.csv')\n",
    "print('\\n')\n",
    "dict = readFile(file_name)\n",
    "print('\\n')\n",
    "dict_values = realComputedLabelsParser(dict, 1)"
   ]
  },
  {
   "cell_type": "code",
   "execution_count": 22,
   "id": "54e00ee5",
   "metadata": {},
   "outputs": [
    {
     "name": "stdout",
     "output_type": "stream",
     "text": [
      "accV1:  0.3076923076923077  precisionV1:  {'Daisy': 0.36363636363636365, 'Rose': 0.25, 'Tulip': 0.2857142857142857}  recallV1:  {'Daisy': 0.36363636363636365, 'Rose': 0.25, 'Tulip': 0.2857142857142857}\n"
     ]
    }
   ],
   "source": [
    "calculateMultiLabelClassification(dict_values)"
   ]
  }
 ],
 "metadata": {
  "kernelspec": {
   "display_name": "Python 3 (ipykernel)",
   "language": "python",
   "name": "python3"
  },
  "language_info": {
   "codemirror_mode": {
    "name": "ipython",
    "version": 3
   },
   "file_extension": ".py",
   "mimetype": "text/x-python",
   "name": "python",
   "nbconvert_exporter": "python",
   "pygments_lexer": "ipython3",
   "version": "3.9.7"
  }
 },
 "nbformat": 4,
 "nbformat_minor": 5
}
